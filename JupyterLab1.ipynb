{
 "cells": [
  {
   "cell_type": "code",
   "execution_count": 12,
   "id": "122b068b-849e-458d-af05-b987ef2e9f1b",
   "metadata": {},
   "outputs": [],
   "source": [
    "a = 3"
   ]
  },
  {
   "cell_type": "code",
   "execution_count": 13,
   "id": "78d14a38-a4d7-4c0e-8ce3-0f4c4db5d8a9",
   "metadata": {},
   "outputs": [
    {
     "name": "stdout",
     "output_type": "stream",
     "text": [
      "3\n"
     ]
    }
   ],
   "source": [
    "print(a)"
   ]
  },
  {
   "cell_type": "code",
   "execution_count": 1,
   "id": "3a87971e-d4e9-4617-8c25-93aa8f6357a0",
   "metadata": {},
   "outputs": [],
   "source": [
    "import numpy as np"
   ]
  },
  {
   "cell_type": "code",
   "execution_count": 2,
   "id": "ce37170d-f8c1-4c54-8a55-c6b898d99e7e",
   "metadata": {},
   "outputs": [],
   "source": [
    "total = 0"
   ]
  },
  {
   "cell_type": "code",
   "execution_count": 5,
   "id": "ff6e1b09-fa16-4e1e-bd1a-0bba5d4a2530",
   "metadata": {},
   "outputs": [],
   "source": [
    "for n in range(1000):\n",
    "    if n % 3 == 0 or n % 5 == 0:\n",
    "        total += n"
   ]
  },
  {
   "cell_type": "code",
   "execution_count": 6,
   "id": "7c2412c9-4a33-4e02-bf72-60458152acda",
   "metadata": {},
   "outputs": [
    {
     "name": "stdout",
     "output_type": "stream",
     "text": [
      "233168\n"
     ]
    }
   ],
   "source": [
    "print(total)"
   ]
  },
  {
   "cell_type": "code",
   "execution_count": 11,
   "id": "6af0fb84-720d-4fae-aecb-327d088559b8",
   "metadata": {},
   "outputs": [
    {
     "name": "stdout",
     "output_type": "stream",
     "text": [
      "hello world\n"
     ]
    }
   ],
   "source": [
    "print('hello world')"
   ]
  },
  {
   "cell_type": "code",
   "execution_count": null,
   "id": "cd1c2867-6a97-43ae-9009-34199022afae",
   "metadata": {},
   "outputs": [],
   "source": []
  }
 ],
 "metadata": {
  "kernelspec": {
   "display_name": "Python 3 (ipykernel)",
   "language": "python",
   "name": "python3"
  },
  "language_info": {
   "codemirror_mode": {
    "name": "ipython",
    "version": 3
   },
   "file_extension": ".py",
   "mimetype": "text/x-python",
   "name": "python",
   "nbconvert_exporter": "python",
   "pygments_lexer": "ipython3",
   "version": "3.12.3"
  }
 },
 "nbformat": 4,
 "nbformat_minor": 5
}
